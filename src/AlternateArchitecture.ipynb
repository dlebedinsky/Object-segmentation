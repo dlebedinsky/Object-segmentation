{
  "cells": [
    {
      "cell_type": "code",
      "execution_count": null,
      "metadata": {
        "colab": {
          "base_uri": "https://localhost:8080/"
        },
        "id": "QlxSoCdqHrn6",
        "outputId": "b8f046fc-8e50-4277-fe3d-b9afa153ec58"
      },
      "outputs": [
        {
          "output_type": "stream",
          "name": "stdout",
          "text": [
            "Mounted at /content/drive\n"
          ]
        }
      ],
      "source": [
        "import os, sys\n",
        "from google.colab import drive\n",
        "\n",
        "drive.mount('/content/drive')\n",
        "os.chdir('/content/drive/MyDrive/Deep Learning homework/Project')\n"
      ]
    },
    {
      "cell_type": "markdown",
      "metadata": {
        "id": "XWD5v6u1dsLA"
      },
      "source": [
        "After loading the data, we need to create a lists of paths to each input image, and to each target image. The images are of various kinds of pets, the targets are of the pets' outlines. There is one image and its corresponding target below, for demonstration.\n",
        "\n",
        "To display the targets properly from this particular dataset, a custom function is needed to make sure the pixel values are grayscale (ranging from 0-254 in a single channel)"
      ]
    },
    {
      "cell_type": "markdown",
      "source": [
        "The above image preprocessing consists of loading the images from Google Drive as numpy arrays. This takes an incredibly long time (about 2 hours) for the complete dataset, even though loading the grayscale targets as 8-bit unsigned integers is supposed to save memory.\n",
        "\n",
        "Thus, it is ideal to save both arrays as numpy binary objects, to be able to load them for later use."
      ],
      "metadata": {
        "id": "Lw2Uv5v7Yp6f"
      }
    },
    {
      "cell_type": "code",
      "source": [
        "import numpy as np\n",
        "arraydir='/content/drive/MyDrive/Deep Learning homework/Project/array/'\n",
        "inputfile=arraydir+'inputs.npy'\n",
        "targetfile=arraydir+'targets.npy'\n",
        "input_imgs=np.load(inputfile)\n",
        "targets=np.load(targetfile)"
      ],
      "metadata": {
        "id": "iBzy7zJB4Cc5"
      },
      "execution_count": null,
      "outputs": []
    },
    {
      "cell_type": "code",
      "source": [
        "num_val_samples = 1000\n",
        "train_input_imgs = input_imgs[:-num_val_samples]\n",
        "train_targets = targets[:-num_val_samples]\n",
        "val_input_imgs = input_imgs[-num_val_samples:]\n",
        "val_targets = targets[-num_val_samples:]"
      ],
      "metadata": {
        "id": "oq-5HO0QYMTR"
      },
      "execution_count": null,
      "outputs": []
    },
    {
      "cell_type": "markdown",
      "source": [
        "Interesting to note that when I attempted to add layers with 512, it broke"
      ],
      "metadata": {
        "id": "hduPEkjvXVdD"
      }
    },
    {
      "cell_type": "code",
      "execution_count": null,
      "metadata": {
        "id": "tPIxmoQQmHtv",
        "colab": {
          "base_uri": "https://localhost:8080/"
        },
        "outputId": "abc51d76-5743-47d7-8199-1bf748b5efad"
      },
      "outputs": [
        {
          "output_type": "stream",
          "name": "stdout",
          "text": [
            "Model: \"model\"\n",
            "_________________________________________________________________\n",
            " Layer (type)                Output Shape              Param #   \n",
            "=================================================================\n",
            " input_1 (InputLayer)        [(None, 200, 200, 3)]     0         \n",
            "                                                                 \n",
            " rescaling (Rescaling)       (None, 200, 200, 3)       0         \n",
            "                                                                 \n",
            " conv2d (Conv2D)             (None, 100, 100, 64)      1792      \n",
            "                                                                 \n",
            " conv2d_1 (Conv2D)           (None, 100, 100, 64)      36928     \n",
            "                                                                 \n",
            " conv2d_2 (Conv2D)           (None, 50, 50, 128)       73856     \n",
            "                                                                 \n",
            " conv2d_3 (Conv2D)           (None, 50, 50, 128)       147584    \n",
            "                                                                 \n",
            " conv2d_4 (Conv2D)           (None, 50, 50, 128)       147584    \n",
            "                                                                 \n",
            " conv2d_5 (Conv2D)           (None, 25, 25, 256)       295168    \n",
            "                                                                 \n",
            " conv2d_6 (Conv2D)           (None, 25, 25, 256)       590080    \n",
            "                                                                 \n",
            " conv2d_7 (Conv2D)           (None, 25, 25, 256)       590080    \n",
            "                                                                 \n",
            " conv2d_transpose (Conv2DTra  (None, 25, 25, 256)      590080    \n",
            " nspose)                                                         \n",
            "                                                                 \n",
            " conv2d_transpose_1 (Conv2DT  (None, 25, 25, 256)      590080    \n",
            " ranspose)                                                       \n",
            "                                                                 \n",
            " conv2d_transpose_2 (Conv2DT  (None, 50, 50, 256)      590080    \n",
            " ranspose)                                                       \n",
            "                                                                 \n",
            " conv2d_transpose_3 (Conv2DT  (None, 50, 50, 128)      295040    \n",
            " ranspose)                                                       \n",
            "                                                                 \n",
            " conv2d_transpose_4 (Conv2DT  (None, 50, 50, 128)      147584    \n",
            " ranspose)                                                       \n",
            "                                                                 \n",
            " conv2d_transpose_5 (Conv2DT  (None, 100, 100, 128)    147584    \n",
            " ranspose)                                                       \n",
            "                                                                 \n",
            " conv2d_transpose_6 (Conv2DT  (None, 100, 100, 64)     73792     \n",
            " ranspose)                                                       \n",
            "                                                                 \n",
            " conv2d_transpose_7 (Conv2DT  (None, 200, 200, 64)     36928     \n",
            " ranspose)                                                       \n",
            "                                                                 \n",
            " conv2d_8 (Conv2D)           (None, 200, 200, 3)       1731      \n",
            "                                                                 \n",
            "=================================================================\n",
            "Total params: 4,355,971\n",
            "Trainable params: 4,355,971\n",
            "Non-trainable params: 0\n",
            "_________________________________________________________________\n"
          ]
        }
      ],
      "source": [
        "from tensorflow import keras\n",
        "from tensorflow.keras import layers\n",
        "img_size= (200, 200)\n",
        "def get_model(img_size, num_classes):\n",
        "  inputs = keras.Input(shape=img_size + (3,))\n",
        "  x = layers.Rescaling(1./255)(inputs)\n",
        "#4 extra layers are added.\n",
        "#It is possible that this will allow the model to learn to ignore the dirt textures.\n",
        "  x = layers.Conv2D(64, 3, strides=2, activation=\"relu\", padding=\"same\")(x)\n",
        "  x = layers.Conv2D(64, 3, activation=\"relu\", padding=\"same\")(x)\n",
        "  x = layers.Conv2D(128, 3, strides=2, activation=\"relu\", padding=\"same\")(x)\n",
        "  x = layers.Conv2D(128, 3, activation=\"relu\", padding=\"same\")(x)\n",
        "  x = layers.Conv2D(128, 3, activation=\"relu\", padding=\"same\")(x) #new\n",
        "  x = layers.Conv2D(256, 3, strides=2, padding=\"same\", activation=\"relu\")(x)\n",
        "  x = layers.Conv2D(256, 3, activation=\"relu\", padding=\"same\")(x)\n",
        "  x = layers.Conv2D(256, 3, activation=\"relu\", padding=\"same\")(x) #new\n",
        "\n",
        "  x = layers.Conv2DTranspose(256, 3, activation=\"relu\", padding=\"same\")(x)\n",
        "  x = layers.Conv2DTranspose(256, 3, activation=\"relu\", padding=\"same\")(x) #new\n",
        "  x = layers.Conv2DTranspose(\n",
        "      256, 3, activation=\"relu\", padding=\"same\", strides=2)(x)\n",
        "  x = layers.Conv2DTranspose(128, 3, activation=\"relu\", padding=\"same\")(x)\n",
        "  x = layers.Conv2DTranspose(128, 3, activation=\"relu\", padding=\"same\")(x) #new\n",
        "  x = layers.Conv2DTranspose(\n",
        "      128, 3, activation=\"relu\", padding=\"same\", strides=2)(x)\n",
        "  x = layers.Conv2DTranspose(64, 3, activation=\"relu\", padding=\"same\")(x)\n",
        "  x = layers.Conv2DTranspose(\n",
        "      64, 3, activation=\"relu\", padding=\"same\", strides=2)(x)\n",
        "  outputs = layers.Conv2D(num_classes,3,activation=\"softmax\",padding=\"same\")(x)\n",
        "  model = keras.Model(inputs, outputs)\n",
        "  return model\n",
        "\n",
        "model = get_model(img_size=img_size, num_classes=3)\n",
        "model.summary()"
      ]
    },
    {
      "cell_type": "markdown",
      "metadata": {
        "id": "jlS8yvVSq6hz"
      },
      "source": [
        "This would take about an hour to fit with 50 epochs, even with the GPU runtime. Thankfully we implemented callbacks to stop training when the validation accuracy ceases to improve, and to save the model with the lowest validation loss.\n",
        "\n"
      ]
    },
    {
      "cell_type": "code",
      "execution_count": null,
      "metadata": {
        "id": "WEGSN4D0nGES",
        "colab": {
          "base_uri": "https://localhost:8080/"
        },
        "outputId": "76413ae7-96e3-49ec-d223-6a900450665e"
      },
      "outputs": [
        {
          "output_type": "stream",
          "name": "stdout",
          "text": [
            "Epoch 1/75\n",
            "100/100 [==============================] - 100s 833ms/step - loss: 0.9267 - accuracy: 0.5689 - val_loss: 0.8632 - val_accuracy: 0.6481\n",
            "Epoch 2/75\n",
            "100/100 [==============================] - 72s 724ms/step - loss: 0.8143 - accuracy: 0.6624 - val_loss: 0.8385 - val_accuracy: 0.6874\n",
            "Epoch 3/75\n",
            "100/100 [==============================] - 72s 725ms/step - loss: 0.7783 - accuracy: 0.6910 - val_loss: 0.7206 - val_accuracy: 0.7150\n",
            "Epoch 4/75\n",
            "100/100 [==============================] - 73s 731ms/step - loss: 0.7414 - accuracy: 0.7061 - val_loss: 0.6856 - val_accuracy: 0.7288\n",
            "Epoch 5/75\n",
            "100/100 [==============================] - 76s 763ms/step - loss: 0.7045 - accuracy: 0.7178 - val_loss: 0.6612 - val_accuracy: 0.7427\n",
            "Epoch 6/75\n",
            "100/100 [==============================] - 77s 767ms/step - loss: 0.6665 - accuracy: 0.7303 - val_loss: 0.6491 - val_accuracy: 0.7456\n",
            "Epoch 7/75\n",
            "100/100 [==============================] - 73s 731ms/step - loss: 0.6451 - accuracy: 0.7376 - val_loss: 0.6481 - val_accuracy: 0.7250\n",
            "Epoch 8/75\n",
            "100/100 [==============================] - 73s 726ms/step - loss: 0.6116 - accuracy: 0.7533 - val_loss: 0.5563 - val_accuracy: 0.7804\n",
            "Epoch 9/75\n",
            "100/100 [==============================] - 73s 729ms/step - loss: 0.5889 - accuracy: 0.7640 - val_loss: 0.5297 - val_accuracy: 0.7919\n",
            "Epoch 10/75\n",
            "100/100 [==============================] - 72s 718ms/step - loss: 0.5735 - accuracy: 0.7707 - val_loss: 0.5626 - val_accuracy: 0.7686\n",
            "Epoch 11/75\n",
            "100/100 [==============================] - 72s 718ms/step - loss: 0.5540 - accuracy: 0.7794 - val_loss: 0.6106 - val_accuracy: 0.7493\n",
            "Epoch 12/75\n",
            "100/100 [==============================] - 73s 728ms/step - loss: 0.5470 - accuracy: 0.7814 - val_loss: 0.5292 - val_accuracy: 0.7998\n",
            "Epoch 13/75\n",
            "100/100 [==============================] - 72s 717ms/step - loss: 0.5296 - accuracy: 0.7902 - val_loss: 0.5617 - val_accuracy: 0.7629\n",
            "Epoch 14/75\n",
            "100/100 [==============================] - 73s 726ms/step - loss: 0.5192 - accuracy: 0.7937 - val_loss: 0.4744 - val_accuracy: 0.8164\n",
            "Epoch 15/75\n",
            "100/100 [==============================] - 72s 718ms/step - loss: 0.5095 - accuracy: 0.7978 - val_loss: 0.4863 - val_accuracy: 0.8110\n",
            "Epoch 16/75\n",
            "100/100 [==============================] - 73s 728ms/step - loss: 0.4997 - accuracy: 0.8022 - val_loss: 0.4522 - val_accuracy: 0.8221\n",
            "Epoch 17/75\n",
            "100/100 [==============================] - 72s 718ms/step - loss: 0.4909 - accuracy: 0.8057 - val_loss: 0.5035 - val_accuracy: 0.8051\n",
            "Epoch 18/75\n",
            "100/100 [==============================] - 71s 715ms/step - loss: 0.4854 - accuracy: 0.8077 - val_loss: 0.4685 - val_accuracy: 0.8123\n",
            "Epoch 19/75\n",
            "100/100 [==============================] - 72s 716ms/step - loss: 0.4683 - accuracy: 0.8154 - val_loss: 0.4631 - val_accuracy: 0.8178\n",
            "Epoch 20/75\n",
            "100/100 [==============================] - 73s 727ms/step - loss: 0.4626 - accuracy: 0.8182 - val_loss: 0.4461 - val_accuracy: 0.8261\n",
            "Epoch 21/75\n",
            "100/100 [==============================] - 72s 718ms/step - loss: 0.4578 - accuracy: 0.8200 - val_loss: 0.4953 - val_accuracy: 0.7999\n",
            "Epoch 22/75\n",
            "100/100 [==============================] - 72s 716ms/step - loss: 0.4514 - accuracy: 0.8227 - val_loss: 0.5881 - val_accuracy: 0.7486\n",
            "Epoch 23/75\n",
            "100/100 [==============================] - 72s 725ms/step - loss: 0.4412 - accuracy: 0.8271 - val_loss: 0.4202 - val_accuracy: 0.8381\n",
            "Epoch 24/75\n",
            "100/100 [==============================] - 72s 716ms/step - loss: 0.4405 - accuracy: 0.8267 - val_loss: 0.4202 - val_accuracy: 0.8388\n",
            "Epoch 25/75\n",
            "100/100 [==============================] - 73s 727ms/step - loss: 0.4260 - accuracy: 0.8331 - val_loss: 0.4003 - val_accuracy: 0.8448\n",
            "Epoch 26/75\n",
            "100/100 [==============================] - 72s 716ms/step - loss: 0.4199 - accuracy: 0.8357 - val_loss: 0.5057 - val_accuracy: 0.8061\n",
            "Epoch 27/75\n",
            "100/100 [==============================] - 73s 727ms/step - loss: 0.4179 - accuracy: 0.8368 - val_loss: 0.3887 - val_accuracy: 0.8498\n",
            "Epoch 28/75\n",
            "100/100 [==============================] - 71s 714ms/step - loss: 0.4129 - accuracy: 0.8380 - val_loss: 0.6634 - val_accuracy: 0.7239\n",
            "Epoch 29/75\n",
            "100/100 [==============================] - 72s 716ms/step - loss: 0.4086 - accuracy: 0.8399 - val_loss: 0.4419 - val_accuracy: 0.8303\n",
            "Epoch 30/75\n",
            "100/100 [==============================] - 73s 726ms/step - loss: 0.4011 - accuracy: 0.8434 - val_loss: 0.3769 - val_accuracy: 0.8528\n",
            "Epoch 31/75\n",
            "100/100 [==============================] - 71s 716ms/step - loss: 0.3983 - accuracy: 0.8444 - val_loss: 0.5184 - val_accuracy: 0.7978\n",
            "Epoch 32/75\n",
            "100/100 [==============================] - 71s 715ms/step - loss: 0.3924 - accuracy: 0.8469 - val_loss: 0.4617 - val_accuracy: 0.8236\n",
            "Epoch 33/75\n",
            "100/100 [==============================] - 71s 714ms/step - loss: 0.3871 - accuracy: 0.8486 - val_loss: 0.6135 - val_accuracy: 0.7442\n",
            "Epoch 34/75\n",
            "100/100 [==============================] - 72s 716ms/step - loss: 0.3818 - accuracy: 0.8512 - val_loss: 0.3905 - val_accuracy: 0.8482\n",
            "dict_keys(['loss', 'accuracy', 'val_loss', 'val_accuracy'])\n"
          ]
        }
      ],
      "source": [
        "from tensorflow.keras import optimizers\n",
        "model.compile(optimizer=optimizers.RMSprop(learning_rate=1e-4),\n",
        "              loss=\"sparse_categorical_crossentropy\",\n",
        "              metrics=['accuracy'])\n",
        "callbacks = [\n",
        "    keras.callbacks.ModelCheckpoint(filepath=\"oxford_segmentation_big.keras\",\n",
        "                                    monitor='val_loss',\n",
        "                                    save_best_only=True),\n",
        "    keras.callbacks.EarlyStopping(monitor=\"val_accuracy\", patience=4)]\n",
        "\n",
        "history = model.fit(train_input_imgs, train_targets,\n",
        "                    epochs=75,\n",
        "                    callbacks=callbacks,\n",
        "                    batch_size=64,\n",
        "                    validation_data=(val_input_imgs, val_targets))\n",
        "\n",
        "print(history.history.keys())"
      ]
    },
    {
      "cell_type": "code",
      "execution_count": null,
      "metadata": {
        "id": "KfbiC_ITpbvW",
        "colab": {
          "base_uri": "https://localhost:8080/",
          "height": 580
        },
        "outputId": "31ef902e-307d-4aec-f484-2a9fe8579c9c"
      },
      "outputs": [
        {
          "output_type": "stream",
          "name": "stdout",
          "text": [
            "34 34 34\n"
          ]
        },
        {
          "output_type": "execute_result",
          "data": {
            "text/plain": [
              "<matplotlib.legend.Legend at 0x7ff3bdff5040>"
            ]
          },
          "metadata": {},
          "execution_count": 6
        },
        {
          "output_type": "display_data",
          "data": {
            "text/plain": [
              "<Figure size 432x288 with 1 Axes>"
            ],
            "image/png": "[encoded data removed]"
          },
          "metadata": {
            "needs_background": "light"
          }
        },
        {
          "output_type": "display_data",
          "data": {
            "text/plain": [
              "<Figure size 432x288 with 1 Axes>"
            ],
            "image/png": "[encoded data removed]"
          },
          "metadata": {
            "needs_background": "light"
          }
        }
      ],
      "source": [
        "import matplotlib.pyplot as plt\n",
        "epochs = range(1, len(history.history[\"loss\"]) + 1)\n",
        "loss = history.history[\"loss\"]\n",
        "val_loss = history.history[\"val_loss\"]\n",
        "print(len(epochs), len(loss), len(val_loss))\n",
        "plt.figure()\n",
        "plt.plot(epochs, loss, \"bo\", label=\"Training loss\")\n",
        "plt.plot(epochs, val_loss, \"b\", label=\"Validation loss\")\n",
        "plt.title(\"Training and validation loss\")\n",
        "plt.legend()\n",
        "\n",
        "accuracy = history.history[\"accuracy\"]\n",
        "val_accuracy = history.history[\"val_accuracy\"]\n",
        "plt.figure()\n",
        "plt.plot(epochs, accuracy, \"ro\", label=\"Training accuracy\")\n",
        "plt.plot(epochs, val_accuracy, \"r\", label=\"Validation accuracy\")\n",
        "plt.title(\"Training and validation accuracy\")\n",
        "plt.legend()"
      ]
    },
    {
      "cell_type": "markdown",
      "source": [
        "This version appears to have yielded a slightly smaller final validation accuracy than the original"
      ],
      "metadata": {
        "id": "G1wOn9xuOZv2"
      }
    }
  ],
  "metadata": {
    "accelerator": "GPU",
    "colab": {
      "provenance": []
    },
    "gpuClass": "standard",
    "kernelspec": {
      "display_name": "Python 3",
      "name": "python3"
    },
    "language_info": {
      "name": "python"
    }
  },
  "nbformat": 4,
  "nbformat_minor": 0
}